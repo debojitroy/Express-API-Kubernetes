{
  "nbformat": 4,
  "nbformat_minor": 0,
  "metadata": {
    "colab": {
      "provenance": [],
      "authorship_tag": "ABX9TyO1q4cTgAUN2L6z9+LemS2a",
      "include_colab_link": true
    },
    "kernelspec": {
      "name": "python3",
      "display_name": "Python 3"
    },
    "language_info": {
      "name": "python"
    }
  },
  "cells": [
    {
      "cell_type": "markdown",
      "metadata": {
        "id": "view-in-github",
        "colab_type": "text"
      },
      "source": [
        "<a href=\"https://colab.research.google.com/github/debojitroy/Express-API-Kubernetes/blob/main/session-1/classroom.ipynb\" target=\"_parent\"><img src=\"https://colab.research.google.com/assets/colab-badge.svg\" alt=\"Open In Colab\"/></a>"
      ]
    },
    {
      "cell_type": "markdown",
      "source": [
        "# Session 1\n",
        "\n",
        "Welcome to Session 1\n"
      ],
      "metadata": {
        "id": "cuFX-4gn-oy2"
      }
    },
    {
      "cell_type": "code",
      "source": [],
      "metadata": {
        "id": "hbO-ny-2-ujm"
      },
      "execution_count": null,
      "outputs": []
    }
  ]
}